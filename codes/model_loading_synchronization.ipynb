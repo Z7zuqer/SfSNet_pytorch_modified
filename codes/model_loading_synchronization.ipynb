{
 "cells": [
  {
   "cell_type": "code",
   "execution_count": 1,
   "metadata": {},
   "outputs": [],
   "source": [
    "from models import *\n",
    "from sfs_net_model import SfSNet"
   ]
  },
  {
   "cell_type": "code",
   "execution_count": 2,
   "metadata": {},
   "outputs": [],
   "source": [
    "author_model = torch.load('./net_epoch_r5_5.pth', map_location={'cuda:0': 'cpu'})"
   ]
  },
  {
   "cell_type": "code",
   "execution_count": 7,
   "metadata": {},
   "outputs": [],
   "source": [
    "new_model = SfsNetPipeline()\n",
    "new_model_dict = new_model.state_dict()"
   ]
  },
  {
   "cell_type": "code",
   "execution_count": 13,
   "metadata": {},
   "outputs": [],
   "source": [
    "with open('model_mapping.txt', 'w') as file:\n",
    "    i = 0\n",
    "    j = 0\n",
    "    nmodel = list(new_model_dict.keys())\n",
    "    amodel = list(author_model.keys())\n",
    "    while i < len(nmodel) or j < len(amodel):\n",
    "        if i < len(nmodel):\n",
    "            if (nmodel[i].endswith('num_batches_tracked')):\n",
    "                i += 1\n",
    "                continue\n",
    "            file.write('dst_model[\\'' + nmodel[i] + '\\']')\n",
    "        file.write(' = ')\n",
    "        if j < len(amodel):\n",
    "            file.write('src_model[\\'' + amodel[j] + '\\']')\n",
    "        file.write('\\n')\n",
    "        i += 1\n",
    "        j += 1"
   ]
  },
  {
   "cell_type": "code",
   "execution_count": null,
   "metadata": {},
   "outputs": [],
   "source": []
  }
 ],
 "metadata": {
  "kernelspec": {
   "display_name": "Python 3",
   "language": "python",
   "name": "python3"
  },
  "language_info": {
   "codemirror_mode": {
    "name": "ipython",
    "version": 3
   },
   "file_extension": ".py",
   "mimetype": "text/x-python",
   "name": "python",
   "nbconvert_exporter": "python",
   "pygments_lexer": "ipython3",
   "version": "3.7.1"
  }
 },
 "nbformat": 4,
 "nbformat_minor": 2
}
